{
 "cells": [
  {
   "cell_type": "code",
   "execution_count": 1,
   "id": "0337135f-db95-4e55-a572-7039d6b9b5e0",
   "metadata": {},
   "outputs": [],
   "source": [
    "# exec - helps to convert string to python code"
   ]
  },
  {
   "cell_type": "code",
   "execution_count": 10,
   "id": "46d1777b-4a76-4ca7-8f77-daa7b6514423",
   "metadata": {},
   "outputs": [
    {
     "ename": "NameError",
     "evalue": "name 'f' is not defined",
     "output_type": "error",
     "traceback": [
      "\u001b[0;31m---------------------------------------------------------------------------\u001b[0m",
      "\u001b[0;31mNameError\u001b[0m                                 Traceback (most recent call last)",
      "Cell \u001b[0;32mIn[10], line 4\u001b[0m\n\u001b[1;32m      2\u001b[0m cmd \u001b[38;5;241m=\u001b[39m sys\u001b[38;5;241m.\u001b[39margv[\u001b[38;5;241m1\u001b[39m]\n\u001b[1;32m      3\u001b[0m \u001b[38;5;66;03m# cmd = \"print('hello world')\"\u001b[39;00m\n\u001b[0;32m----> 4\u001b[0m \u001b[43mexec\u001b[49m\u001b[43m(\u001b[49m\u001b[43mcmd\u001b[49m\u001b[43m)\u001b[49m\n",
      "File \u001b[0;32m<string>:1\u001b[0m\n",
      "\u001b[0;31mNameError\u001b[0m: name 'f' is not defined"
     ]
    }
   ],
   "source": [
    "import sys\n",
    "cmd = sys.argv[1]\n",
    "# cmd = \"print('hello world')\"\n",
    "exec(cmd)"
   ]
  },
  {
   "cell_type": "code",
   "execution_count": 7,
   "id": "ee5b6e5a-a836-4ea0-a73b-a32b4f157f32",
   "metadata": {},
   "outputs": [],
   "source": [
    "# this will have a security concern\n",
    "# let's use a tool called bandit for identifying security issues"
   ]
  },
  {
   "cell_type": "code",
   "execution_count": 12,
   "id": "e79b3310-6d40-4631-93bb-dc6243af721e",
   "metadata": {},
   "outputs": [],
   "source": [
    "# pip install bandit\n",
    "# bandit bandit.py \n",
    "# it works for python file only i think"
   ]
  },
  {
   "cell_type": "code",
   "execution_count": 11,
   "id": "f9e59974-160d-4d7d-82e7-33361eeb1339",
   "metadata": {},
   "outputs": [
    {
     "name": "stdout",
     "output_type": "stream",
     "text": [
      "[main]\tINFO\tprofile include tests: None\n",
      "[main]\tINFO\tprofile exclude tests: None\n",
      "[main]\tINFO\tcli include tests: None\n",
      "[main]\tINFO\tcli exclude tests: None\n",
      "[main]\tINFO\trunning on Python 3.10.12\n",
      "\u001b[95mRun started:2024-11-03 15:31:45.854802\u001b[0m\n",
      "\u001b[95m\n",
      "Test results:\u001b[0m\n",
      "\tNo issues identified.\n",
      "\u001b[95m\n",
      "Code scanned:\u001b[0m\n",
      "\tTotal lines of code: 75\n",
      "\tTotal lines skipped (#nosec): 0\n",
      "\u001b[95m\n",
      "Run metrics:\u001b[0m\n",
      "\tTotal issues (by severity):\n",
      "\t\tUndefined: 0\n",
      "\t\tLow: 0\n",
      "\t\tMedium: 0\n",
      "\t\tHigh: 0\n",
      "\tTotal issues (by confidence):\n",
      "\t\tUndefined: 0\n",
      "\t\tLow: 0\n",
      "\t\tMedium: 0\n",
      "\t\tHigh: 0\n",
      "\u001b[95mFiles skipped (0):\u001b[0m\n"
     ]
    }
   ],
   "source": [
    "!bandit bandit.ipynb"
   ]
  },
  {
   "cell_type": "raw",
   "id": "310e5ed9-a2ac-43ca-9a17-45b649bf8f07",
   "metadata": {},
   "source": [
    "# resulr when runned on  a python file\n",
    "thiyophin22@thiyophin22-HP:~/Desktop$ bandit python bad_code.py \"ehl\"\n",
    "[main]\tINFO\tprofile include tests: None\n",
    "[main]\tINFO\tprofile exclude tests: None\n",
    "[main]\tINFO\tcli include tests: None\n",
    "[main]\tINFO\tcli exclude tests: None\n",
    "[main]\tINFO\trunning on Python 3.12.3\n",
    "Run started:2024-11-03 15:38:25.790828\n",
    "\n",
    "Test results:\n",
    ">> Issue: [B102:exec_used] Use of exec detected.\n",
    "   Severity: Medium   Confidence: High\n",
    "   CWE: CWE-78 (https://cwe.mitre.org/data/definitions/78.html)\n",
    "   More Info: https://bandit.readthedocs.io/en/1.7.10/plugins/b102_exec_used.html\n",
    "   Location: ./bad_code.py:4:0\n",
    "3\t# cmd = \"print('hello world')\"\n",
    "4\texec(cmd)\n",
    "\n",
    "--------------------------------------------------\n",
    "\n",
    "Code scanned:\n",
    "\tTotal lines of code: 3\n",
    "\tTotal lines skipped (#nosec): 0\n",
    "\n",
    "Run metrics:\n",
    "\tTotal issues (by severity):\n",
    "\t\tUndefined: 0\n",
    "\t\tLow: 0\n",
    "\t\tMedium: 1\n",
    "\t\tHigh: 0\n",
    "\tTotal issues (by confidence):\n",
    "\t\tUndefined: 0\n",
    "\t\tLow: 0\n",
    "\t\tMedium: 0\n",
    "\t\tHigh: 1\n",
    "Files skipped (2):\n",
    "\t./ehl (No such file or directory)\n",
    "\t./python (No such file or directory)\n"
   ]
  },
  {
   "cell_type": "code",
   "execution_count": 15,
   "id": "049c6607-aa26-4f89-ace4-07d5437b49a2",
   "metadata": {},
   "outputs": [],
   "source": [
    "# to check a project have any issues\n",
    "# bandit -r project_folder\n",
    "# to skip one line from checking use , a comment \"#nosec\""
   ]
  },
  {
   "cell_type": "code",
   "execution_count": null,
   "id": "8c024250-d443-41ce-b553-dc69abc5a7ad",
   "metadata": {},
   "outputs": [],
   "source": []
  }
 ],
 "metadata": {
  "kernelspec": {
   "display_name": "Python 3 (ipykernel)",
   "language": "python",
   "name": "python3"
  },
  "language_info": {
   "codemirror_mode": {
    "name": "ipython",
    "version": 3
   },
   "file_extension": ".py",
   "mimetype": "text/x-python",
   "name": "python",
   "nbconvert_exporter": "python",
   "pygments_lexer": "ipython3",
   "version": "3.10.12"
  }
 },
 "nbformat": 4,
 "nbformat_minor": 5
}

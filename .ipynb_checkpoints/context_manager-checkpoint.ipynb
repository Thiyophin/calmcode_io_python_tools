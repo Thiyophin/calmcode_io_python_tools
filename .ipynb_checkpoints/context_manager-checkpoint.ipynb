{
 "cells": [
  {
   "cell_type": "code",
   "execution_count": 1,
   "id": "33109032-1b58-4d51-badb-446178a0c0bd",
   "metadata": {},
   "outputs": [
    {
     "name": "stdout",
     "output_type": "stream",
     "text": [
      "Enter the context manager\n",
      "Inside context manager\n",
      "Exiting the context manager\n"
     ]
    }
   ],
   "source": [
    "# context manager from scratch\n",
    "class PrintingContextManager:\n",
    "    def __enter__(self):\n",
    "        print(\"Enter the context manager\")\n",
    "\n",
    "    def __exit__(self, exec_type, exc_value, traceback):\n",
    "        print(\"Exiting the context manager\")\n",
    "\n",
    "with PrintingContextManager():\n",
    "    print(\"Inside context manager\")"
   ]
  },
  {
   "cell_type": "code",
   "execution_count": 3,
   "id": "7d1e5122-810d-42ae-9e4d-9628c147af0e",
   "metadata": {},
   "outputs": [
    {
     "name": "stdout",
     "output_type": "stream",
     "text": [
      "Enter the context manager\n",
      "Exiting the context manager\n",
      "<class 'ValueError'>\n",
      "Oh no\n",
      "<traceback object at 0x7cfab0f7d980>\n"
     ]
    },
    {
     "ename": "ValueError",
     "evalue": "Oh no",
     "output_type": "error",
     "traceback": [
      "\u001b[0;31m---------------------------------------------------------------------------\u001b[0m",
      "\u001b[0;31mValueError\u001b[0m                                Traceback (most recent call last)",
      "Cell \u001b[0;32mIn[3], line 12\u001b[0m\n\u001b[1;32m      9\u001b[0m         \u001b[38;5;28mprint\u001b[39m(traceback)\n\u001b[1;32m     11\u001b[0m \u001b[38;5;28;01mwith\u001b[39;00m PrintingContextManager():\n\u001b[0;32m---> 12\u001b[0m     \u001b[38;5;28;01mraise\u001b[39;00m \u001b[38;5;167;01mValueError\u001b[39;00m(\u001b[38;5;124m\"\u001b[39m\u001b[38;5;124mOh no\u001b[39m\u001b[38;5;124m\"\u001b[39m)\n",
      "\u001b[0;31mValueError\u001b[0m: Oh no"
     ]
    }
   ],
   "source": [
    "class PrintingContextManager:\n",
    "    def __enter__(self):\n",
    "        print(\"Enter the context manager\")\n",
    "\n",
    "    def __exit__(self, exc_type, exc_value, traceback):\n",
    "        print(\"Exiting the context manager\")\n",
    "        print(exc_type)\n",
    "        print(exc_value)\n",
    "        print(traceback)\n",
    "\n",
    "with PrintingContextManager():\n",
    "    raise ValueError(\"Oh no\")\n",
    "    "
   ]
  },
  {
   "cell_type": "code",
   "execution_count": 8,
   "id": "71d98ed8-9201-49b0-a6fd-2fcb5ac67f10",
   "metadata": {},
   "outputs": [
    {
     "name": "stdout",
     "output_type": "stream",
     "text": [
      "Enter the context manager\n",
      "inside the context manager\n",
      "I am the retruned value\n",
      "Exiting the context manager\n",
      "None\n",
      "None\n",
      "None\n"
     ]
    }
   ],
   "source": [
    "class PrintingContextManager:\n",
    "    def __enter__(self):\n",
    "        print(\"Enter the context manager\")\n",
    "        return \"I am the retruned value\"\n",
    "\n",
    "    def __exit__(self, exc_type, exc_value, traceback):\n",
    "        print(\"Exiting the context manager\")\n",
    "        print(exc_type)\n",
    "        print(exc_value)\n",
    "        print(traceback)\n",
    "\n",
    "with PrintingContextManager() as var:\n",
    "    print(\"inside the context manager\")\n",
    "    print(var)    "
   ]
  },
  {
   "cell_type": "code",
   "execution_count": 9,
   "id": "dca59f6e-162e-4528-8592-b216576dba38",
   "metadata": {},
   "outputs": [
    {
     "name": "stdout",
     "output_type": "stream",
     "text": [
      "Entering the context manager\n",
      "inside context manager\n",
      "I am the returned value\n",
      "Exiting the context manager\n"
     ]
    }
   ],
   "source": [
    "# context manager using decorator\n",
    "from contextlib import contextmanager\n",
    "\n",
    "@contextmanager\n",
    "def printing_context_manager():\n",
    "    print(\"Entering the context manager\")\n",
    "    yield(\"I am the returned value\")\n",
    "    print(\"Exiting the context manager\")\n",
    "\n",
    "with printing_context_manager() as var:\n",
    "    print(\"inside context manager\")\n",
    "    print(var)"
   ]
  },
  {
   "cell_type": "code",
   "execution_count": 11,
   "id": "08532bb1-595a-409c-8337-b6b59da3eead",
   "metadata": {},
   "outputs": [],
   "source": [
    "# the with open used to handle files use in context manager\n",
    "# with open(\"file.txt\") as f:\n",
    "#     lines = f.read()\n",
    "# lines.split(\"\\n\")"
   ]
  },
  {
   "cell_type": "code",
   "execution_count": null,
   "id": "ca2bde5e-77e6-4243-bf8d-be1d2f71274f",
   "metadata": {},
   "outputs": [],
   "source": []
  }
 ],
 "metadata": {
  "kernelspec": {
   "display_name": "Python 3 (ipykernel)",
   "language": "python",
   "name": "python3"
  },
  "language_info": {
   "codemirror_mode": {
    "name": "ipython",
    "version": 3
   },
   "file_extension": ".py",
   "mimetype": "text/x-python",
   "name": "python",
   "nbconvert_exporter": "python",
   "pygments_lexer": "ipython3",
   "version": "3.10.12"
  }
 },
 "nbformat": 4,
 "nbformat_minor": 5
}

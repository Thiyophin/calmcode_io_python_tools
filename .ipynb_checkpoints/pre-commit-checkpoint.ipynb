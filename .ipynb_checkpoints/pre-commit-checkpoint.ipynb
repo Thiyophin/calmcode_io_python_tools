{
 "cells": [
  {
   "cell_type": "code",
   "execution_count": 3,
   "metadata": {},
   "outputs": [
    {
     "name": "stdout",
     "output_type": "stream",
     "text": [
      "Collecting pre-commit\n",
      "  Downloading pre_commit-2.17.0-py2.py3-none-any.whl (195 kB)\n",
      "Collecting virtualenv>=20.0.8\n",
      "  Downloading virtualenv-20.17.1-py3-none-any.whl (8.8 MB)\n",
      "Collecting identify>=1.0.0\n",
      "  Downloading identify-2.4.4-py2.py3-none-any.whl (98 kB)\n",
      "Requirement already satisfied: pyyaml>=5.1 in c:\\users\\thiyophin johnson\\anaconda3\\envs\\python-cvcourse\\lib\\site-packages (from pre-commit) (5.4.1)\n",
      "Collecting importlib-resources<5.3\n",
      "  Downloading importlib_resources-5.2.3-py3-none-any.whl (27 kB)\n",
      "Collecting cfgv>=2.0.0\n",
      "  Downloading cfgv-3.3.1-py2.py3-none-any.whl (7.3 kB)\n",
      "Requirement already satisfied: importlib-metadata in c:\\users\\thiyophin johnson\\anaconda3\\envs\\python-cvcourse\\lib\\site-packages (from pre-commit) (4.2.0)\n",
      "Collecting nodeenv>=0.11.1\n",
      "  Downloading nodeenv-1.6.0-py2.py3-none-any.whl (21 kB)\n",
      "Collecting toml\n",
      "  Downloading toml-0.10.2-py2.py3-none-any.whl (16 kB)\n",
      "Requirement already satisfied: zipp>=3.1.0 in c:\\users\\thiyophin johnson\\anaconda3\\envs\\python-cvcourse\\lib\\site-packages (from importlib-resources<5.3->pre-commit) (3.6.0)\n",
      "Collecting filelock<4,>=3.4.1\n",
      "  Downloading filelock-3.4.1-py3-none-any.whl (9.9 kB)\n",
      "Collecting importlib-metadata\n",
      "  Downloading importlib_metadata-4.8.3-py3-none-any.whl (17 kB)\n",
      "Collecting distlib<1,>=0.3.6\n",
      "  Downloading distlib-0.3.9-py2.py3-none-any.whl (468 kB)\n",
      "Collecting virtualenv>=20.0.8\n",
      "  Downloading virtualenv-20.17.0-py3-none-any.whl (8.8 MB)\n",
      "  Downloading virtualenv-20.16.7-py3-none-any.whl (8.8 MB)\n",
      "  Downloading virtualenv-20.16.6-py3-none-any.whl (8.8 MB)\n",
      "  Downloading virtualenv-20.16.5-py3-none-any.whl (8.8 MB)\n",
      "  Downloading virtualenv-20.16.4-py3-none-any.whl (8.8 MB)\n",
      "  Downloading virtualenv-20.16.3-py2.py3-none-any.whl (8.8 MB)\n",
      "  Downloading virtualenv-20.16.2-py2.py3-none-any.whl (8.8 MB)\n",
      "Requirement already satisfied: platformdirs<3,>=2 in c:\\users\\thiyophin johnson\\anaconda3\\envs\\python-cvcourse\\lib\\site-packages (from virtualenv>=20.0.8->pre-commit) (2.4.0)\n",
      "Requirement already satisfied: typing-extensions>=3.6.4 in c:\\users\\thiyophin johnson\\anaconda3\\envs\\python-cvcourse\\lib\\site-packages (from importlib-metadata->pre-commit) (3.7.4)\n",
      "Installing collected packages: importlib-resources, filelock, distlib, virtualenv, toml, nodeenv, identify, cfgv, pre-commit\n",
      "  Attempting uninstall: importlib-resources\n",
      "    Found existing installation: importlib-resources 5.4.0\n",
      "    Uninstalling importlib-resources-5.4.0:\n",
      "      Successfully uninstalled importlib-resources-5.4.0\n",
      "Successfully installed cfgv-3.3.1 distlib-0.3.9 filelock-3.4.1 identify-2.4.4 importlib-resources-5.2.3 nodeenv-1.6.0 pre-commit-2.17.0 toml-0.10.2 virtualenv-20.16.2\n"
     ]
    }
   ],
   "source": [
    "!pip install pre-commit"
   ]
  },
  {
   "cell_type": "code",
   "execution_count": 8,
   "metadata": {},
   "outputs": [],
   "source": [
    "pre-commit --help # run this in terminal to check installation"
   ]
  },
  {
   "cell_type": "code",
   "execution_count": 9,
   "metadata": {},
   "outputs": [],
   "source": [
    "# pre-commit is a tool to manage and maintain pre-commit hooks, which are small scripts that run before you commit code to ensure code quality, style, and other checks."
   ]
  },
  {
   "cell_type": "code",
   "execution_count": null,
   "metadata": {},
   "outputs": [],
   "source": [
    "pre-commit sample-config # run this in terminal to see the config file"
   ]
  }
 ],
 "metadata": {
  "kernelspec": {
   "display_name": "Python (python-cvcourse)",
   "language": "python",
   "name": "python-cvcourse"
  },
  "language_info": {
   "codemirror_mode": {
    "name": "ipython",
    "version": 3
   },
   "file_extension": ".py",
   "mimetype": "text/x-python",
   "name": "python",
   "nbconvert_exporter": "python",
   "pygments_lexer": "ipython3",
   "version": "3.6.6"
  }
 },
 "nbformat": 4,
 "nbformat_minor": 2
}

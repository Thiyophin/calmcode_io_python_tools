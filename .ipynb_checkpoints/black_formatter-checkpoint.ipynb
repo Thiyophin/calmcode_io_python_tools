{
 "cells": [
  {
   "cell_type": "markdown",
   "metadata": {},
   "source": [
    "# black (style formatter)"
   ]
  },
  {
   "cell_type": "code",
   "execution_count": 1,
   "metadata": {},
   "outputs": [],
   "source": [
    "list_of_numbers = [\n",
    "    1,\n",
    "    2,\n",
    "    3\n",
    "]\n",
    "\n",
    "large_dictionary = {1:2, 3:4, 5:6, 7:8, 9:10, 11:12, 13:14, 15:16, 17:18, 19:20, 21:22, 23:24}\n",
    "# this style in a python script is in, run `black script.py` to format it"
   ]
  },
  {
   "cell_type": "code",
   "execution_count": 2,
   "metadata": {},
   "outputs": [
    {
     "name": "stdout",
     "output_type": "stream",
     "text": [
      "Collecting jupyter-black\n",
      "  Downloading jupyter_black-0.4.0-py3-none-any.whl (7.6 kB)\n",
      "Collecting black[jupyter]>=21\n",
      "  Downloading black-22.8.0-cp36-cp36m-win_amd64.whl (1.1 MB)\n",
      "Collecting typing-extensions>=3.10.0.0\n",
      "  Using cached typing_extensions-4.1.1-py3-none-any.whl (26 kB)\n",
      "Collecting pathspec>=0.9.0\n",
      "  Downloading pathspec-0.9.0-py2.py3-none-any.whl (31 kB)\n",
      "Collecting typed-ast>=1.4.2\n",
      "  Downloading typed_ast-1.5.5-cp36-cp36m-win_amd64.whl (160 kB)\n",
      "Collecting click>=8.0.0\n",
      "  Downloading click-8.0.4-py3-none-any.whl (97 kB)\n",
      "Collecting platformdirs>=2\n",
      "  Downloading platformdirs-2.4.0-py3-none-any.whl (14 kB)\n",
      "Collecting mypy-extensions>=0.4.3\n",
      "  Downloading mypy_extensions-1.0.0-py3-none-any.whl (4.7 kB)\n",
      "Requirement already satisfied: dataclasses>=0.6 in c:\\users\\thiyophin johnson\\anaconda3\\envs\\python-cvcourse\\lib\\site-packages (from black[jupyter]>=21->jupyter-black) (0.8)\n",
      "Collecting tomli>=1.1.0\n",
      "  Downloading tomli-1.2.3-py3-none-any.whl (12 kB)\n",
      "Requirement already satisfied: ipython>=7.8.0 in c:\\users\\thiyophin johnson\\anaconda3\\envs\\python-cvcourse\\lib\\site-packages (from black[jupyter]>=21->jupyter-black) (7.16.1)\n",
      "Collecting tokenize-rt>=3.2.0\n",
      "  Downloading tokenize_rt-4.2.1-py2.py3-none-any.whl (6.1 kB)\n",
      "Requirement already satisfied: colorama in c:\\users\\thiyophin johnson\\anaconda3\\envs\\python-cvcourse\\lib\\site-packages (from click>=8.0.0->black[jupyter]>=21->jupyter-black) (0.4.4)\n",
      "Requirement already satisfied: importlib-metadata in c:\\users\\thiyophin johnson\\anaconda3\\envs\\python-cvcourse\\lib\\site-packages (from click>=8.0.0->black[jupyter]>=21->jupyter-black) (4.8.1)\n",
      "Requirement already satisfied: decorator in c:\\users\\thiyophin johnson\\anaconda3\\envs\\python-cvcourse\\lib\\site-packages (from ipython>=7.8.0->black[jupyter]>=21->jupyter-black) (5.1.1)\n",
      "Requirement already satisfied: setuptools>=18.5 in c:\\users\\thiyophin johnson\\anaconda3\\envs\\python-cvcourse\\lib\\site-packages (from ipython>=7.8.0->black[jupyter]>=21->jupyter-black) (58.0.4)\n",
      "Requirement already satisfied: backcall in c:\\users\\thiyophin johnson\\anaconda3\\envs\\python-cvcourse\\lib\\site-packages (from ipython>=7.8.0->black[jupyter]>=21->jupyter-black) (0.2.0)\n",
      "Requirement already satisfied: pickleshare in c:\\users\\thiyophin johnson\\anaconda3\\envs\\python-cvcourse\\lib\\site-packages (from ipython>=7.8.0->black[jupyter]>=21->jupyter-black) (0.7.5)\n",
      "Requirement already satisfied: jedi>=0.10 in c:\\users\\thiyophin johnson\\anaconda3\\envs\\python-cvcourse\\lib\\site-packages (from ipython>=7.8.0->black[jupyter]>=21->jupyter-black) (0.17.0)\n",
      "Requirement already satisfied: traitlets>=4.2 in c:\\users\\thiyophin johnson\\anaconda3\\envs\\python-cvcourse\\lib\\site-packages (from ipython>=7.8.0->black[jupyter]>=21->jupyter-black) (4.3.3)\n",
      "Requirement already satisfied: prompt-toolkit!=3.0.0,!=3.0.1,<3.1.0,>=2.0.0 in c:\\users\\thiyophin johnson\\anaconda3\\envs\\python-cvcourse\\lib\\site-packages (from ipython>=7.8.0->black[jupyter]>=21->jupyter-black) (3.0.20)\n",
      "Requirement already satisfied: pygments in c:\\users\\thiyophin johnson\\anaconda3\\envs\\python-cvcourse\\lib\\site-packages (from ipython>=7.8.0->black[jupyter]>=21->jupyter-black) (2.11.2)\n",
      "Requirement already satisfied: parso>=0.7.0 in c:\\users\\thiyophin johnson\\anaconda3\\envs\\python-cvcourse\\lib\\site-packages (from jedi>=0.10->ipython>=7.8.0->black[jupyter]>=21->jupyter-black) (0.8.3)\n",
      "Requirement already satisfied: wcwidth in c:\\users\\thiyophin johnson\\anaconda3\\envs\\python-cvcourse\\lib\\site-packages (from prompt-toolkit!=3.0.0,!=3.0.1,<3.1.0,>=2.0.0->ipython>=7.8.0->black[jupyter]>=21->jupyter-black) (0.2.5)\n",
      "Requirement already satisfied: ipython-genutils in c:\\users\\thiyophin johnson\\anaconda3\\envs\\python-cvcourse\\lib\\site-packages (from traitlets>=4.2->ipython>=7.8.0->black[jupyter]>=21->jupyter-black) (0.2.0)\n",
      "Requirement already satisfied: six in c:\\users\\thiyophin johnson\\anaconda3\\envs\\python-cvcourse\\lib\\site-packages (from traitlets>=4.2->ipython>=7.8.0->black[jupyter]>=21->jupyter-black) (1.15.0)\n",
      "Requirement already satisfied: zipp>=0.5 in c:\\users\\thiyophin johnson\\anaconda3\\envs\\python-cvcourse\\lib\\site-packages (from importlib-metadata->click>=8.0.0->black[jupyter]>=21->jupyter-black) (3.6.0)\n",
      "Installing collected packages: typing-extensions, typed-ast, tomli, platformdirs, pathspec, mypy-extensions, click, tokenize-rt, black, jupyter-black\n",
      "  Attempting uninstall: typing-extensions\n",
      "    Found existing installation: typing-extensions 3.7.4.3\n",
      "    Uninstalling typing-extensions-3.7.4.3:\n",
      "      Successfully uninstalled typing-extensions-3.7.4.3\n",
      "Successfully installed black-22.8.0 click-8.0.4 jupyter-black-0.4.0 mypy-extensions-1.0.0 pathspec-0.9.0 platformdirs-2.4.0 tokenize-rt-4.2.1 tomli-1.2.3 typed-ast-1.5.5 typing-extensions-4.1.1\n"
     ]
    },
    {
     "name": "stderr",
     "output_type": "stream",
     "text": [
      "ERROR: pip's dependency resolver does not currently take into account all the packages that are installed. This behaviour is the source of the following dependency conflicts.\n",
      "tensorflow 2.4.0 requires typing-extensions~=3.7.4, but you have typing-extensions 4.1.1 which is incompatible.\n"
     ]
    }
   ],
   "source": [
    "!pip install jupyter-black"
   ]
  },
  {
   "cell_type": "code",
   "execution_count": 2,
   "metadata": {},
   "outputs": [],
   "source": [
    "%load_ext jupyter_black # in jupyter notebook use this to load and during running cells this will auto format cells"
   ]
  },
  {
   "cell_type": "code",
   "execution_count": 3,
   "metadata": {},
   "outputs": [],
   "source": [
    "list_of_numbers = [1, 2, 3]\n",
    "\n",
    "large_dictionary = {\n",
    "    1: 2,\n",
    "    3: 4,\n",
    "    5: 6,\n",
    "    7: 8,\n",
    "    9: 10,\n",
    "    11: 12,\n",
    "    13: 14,\n",
    "    15: 16,\n",
    "    17: 18,\n",
    "    19: 20,\n",
    "    21: 22,\n",
    "    23: 24,\n",
    "}\n",
    "# this style in a python script is in, run `black script.py` to format it , use change also use pre-commit hook to format code during commit\n",
    "# to format all the codes in a directory use `black .`"
   ]
  },
  {
   "cell_type": "code",
   "execution_count": null,
   "metadata": {},
   "outputs": [],
   "source": []
  }
 ],
 "metadata": {
  "kernelspec": {
   "display_name": "Python 3",
   "language": "python",
   "name": "python3"
  },
  "language_info": {
   "codemirror_mode": {
    "name": "ipython",
    "version": 3
   },
   "file_extension": ".py",
   "mimetype": "text/x-python",
   "name": "python",
   "nbconvert_exporter": "python",
   "pygments_lexer": "ipython3",
   "version": "3.6.6"
  }
 },
 "nbformat": 4,
 "nbformat_minor": 2
}

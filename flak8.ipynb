{
 "cells": [
  {
   "cell_type": "code",
   "execution_count": 1,
   "metadata": {},
   "outputs": [
    {
     "ename": "SyntaxError",
     "evalue": "positional argument follows keyword argument (<ipython-input-1-5085ac1a003d>, line 21)",
     "output_type": "error",
     "traceback": [
      "\u001b[1;36m  File \u001b[1;32m\"<ipython-input-1-5085ac1a003d>\"\u001b[1;36m, line \u001b[1;32m21\u001b[0m\n\u001b[1;33m    return Fibonachi(s1=1, s2=2, n)\u001b[0m\n\u001b[1;37m                                ^\u001b[0m\n\u001b[1;31mSyntaxError\u001b[0m\u001b[1;31m:\u001b[0m positional argument follows keyword argument\n"
     ]
    }
   ],
   "source": [
    "import pandas as pd\n",
    "from numpy import *\n",
    "\n",
    "settings = {\"a\": 1, \"b\": 2, \"c\": 3, \"a\": 2}\n",
    "\n",
    "def fibonachi( s1, s2, n ):\n",
    "    \"\"\"\n",
    "    calculates the fibonachi sequence\n",
    "    with given custom numbers\n",
    "    \"\"\"\n",
    "    result = [s1 , s2]\n",
    "    for i in range( n ):\n",
    "        s1, s2 = s2, s1 + s2\n",
    "        result.append(s2)\n",
    "    return result\n",
    "\n",
    "def fibonachi_standard(n):\n",
    "    \"\"\"\n",
    "    calculates the standard fibonachi sequence\n",
    "    \"\"\"\n",
    "    return Fibonachi(s1=1, s2=2, n)"
   ]
  },
  {
   "cell_type": "code",
   "execution_count": 2,
   "metadata": {},
   "outputs": [],
   "source": [
    "# use can use flak8 to know styling and smelling mistake errors using flak8, run 'flake8 filename.py'"
   ]
  },
  {
   "cell_type": "code",
   "execution_count": 4,
   "metadata": {},
   "outputs": [
    {
     "name": "stdout",
     "output_type": "stream",
     "text": [
      "Found existing installation: jupyterlab-flake8 0.7.1\n",
      "Uninstalling jupyterlab-flake8-0.7.1:\n",
      "  Successfully uninstalled jupyterlab-flake8-0.7.1\n",
      "Collecting jupyterlab-flake8\n",
      "  Using cached jupyterlab_flake8-0.7.1-py3-none-any.whl (207 kB)\n",
      "Installing collected packages: jupyterlab-flake8\n",
      "Successfully installed jupyterlab-flake8-0.7.1\n"
     ]
    }
   ],
   "source": [
    "!pip uninstall -y jupyterlab-flake8\n",
    "!pip install jupyterlab-flake8"
   ]
  },
  {
   "cell_type": "code",
   "execution_count": 12,
   "metadata": {},
   "outputs": [
    {
     "name": "stdout",
     "output_type": "stream",
     "text": [
      "['C:\\\\Users\\\\Thiyophin Johnson\\\\anaconda3\\\\envs\\\\python-cvcourse\\\\python36.zip', 'C:\\\\Users\\\\Thiyophin Johnson\\\\anaconda3\\\\envs\\\\python-cvcourse\\\\DLLs', 'C:\\\\Users\\\\Thiyophin Johnson\\\\anaconda3\\\\envs\\\\python-cvcourse\\\\lib', 'C:\\\\Users\\\\Thiyophin Johnson\\\\anaconda3\\\\envs\\\\python-cvcourse', '', 'C:\\\\Users\\\\Thiyophin Johnson\\\\anaconda3\\\\envs\\\\python-cvcourse\\\\lib\\\\site-packages', 'C:\\\\Users\\\\Thiyophin Johnson\\\\anaconda3\\\\envs\\\\python-cvcourse\\\\lib\\\\site-packages\\\\win32', 'C:\\\\Users\\\\Thiyophin Johnson\\\\anaconda3\\\\envs\\\\python-cvcourse\\\\lib\\\\site-packages\\\\win32\\\\lib', 'C:\\\\Users\\\\Thiyophin Johnson\\\\anaconda3\\\\envs\\\\python-cvcourse\\\\lib\\\\site-packages\\\\Pythonwin', 'C:\\\\Users\\\\Thiyophin Johnson\\\\anaconda3\\\\envs\\\\python-cvcourse\\\\lib\\\\site-packages\\\\IPython\\\\extensions', 'C:\\\\Users\\\\Thiyophin Johnson\\\\.ipython']\n"
     ]
    }
   ],
   "source": [
    "import sys\n",
    "print(sys.path)"
   ]
  },
  {
   "cell_type": "code",
   "execution_count": 9,
   "metadata": {},
   "outputs": [],
   "source": [
    "# to ignore some errors run `flake8 filename.py --ignore error_code_number`"
   ]
  }
 ],
 "metadata": {
  "kernelspec": {
   "display_name": "Python (python-cvcourse)",
   "language": "python",
   "name": "python-cvcourse"
  },
  "language_info": {
   "codemirror_mode": {
    "name": "ipython",
    "version": 3
   },
   "file_extension": ".py",
   "mimetype": "text/x-python",
   "name": "python",
   "nbconvert_exporter": "python",
   "pygments_lexer": "ipython3",
   "version": "3.6.6"
  }
 },
 "nbformat": 4,
 "nbformat_minor": 2
}
